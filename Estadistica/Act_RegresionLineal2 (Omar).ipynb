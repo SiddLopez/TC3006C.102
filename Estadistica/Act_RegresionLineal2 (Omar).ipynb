{
 "cells": [
  {
   "cell_type": "markdown",
   "metadata": {},
   "source": [
    "Omar A. Rodríguez Valencia\n",
    "\n",
    "A01769948"
   ]
  },
  {
   "cell_type": "markdown",
   "metadata": {},
   "source": [
    "# Actividad Regresión Lineal 2"
   ]
  },
  {
   "cell_type": "markdown",
   "metadata": {},
   "source": [
    "Descarga la base de datos titulada \"breast_cancer\" disponible en canvas. Dicha base de datos contiene información sobre las características de diversos tumores.\n",
    "\n",
    "Utiliza un modelo de regresión lineal múltiple para predecir el radio del tumor. Las variables regresoras de tu modelo deben de ser todas las variables de la base de datos.\n",
    "\n",
    "Entrega un documento en formato PDF donde se observe la siguiente información.\n",
    "\n",
    "1. Base de datos completa. No se observan valores faltantes. En caso de haberlos se realiza imputación simple.\n",
    "\n",
    "2. Mostrar que las variables regresoras son independientes. En caso de no serlo realizar el procedimiento correspondiente.\n",
    "\n",
    "3. Hipótesis nula de los coeficientes de regresión. Estadístico de prueba, distribución del estadístico de prueba.\n",
    "\n",
    "Para un 95% de confianza realiza un diagrama en donde se muestre la distribución del estadístico de prueba, la zona de aceptación y la zona de rechazo.\n",
    "\n",
    "4. Hipótesis nula de la significancia del modelo (prueba F-Fisher). Menciona que distribución tiene el estadístico de prueba con qué número de grados de libertad. Para un 95% de confianza realiza un diagrama en donde se muestre la distribución del estadístico de prueba, la zona de aceptación y la zona de rechazo.\n",
    "\n",
    "5. Realiza un modelo de regresión hacia atrás (backward). Explica el criterio para ir eliminando variables del modelo.\n",
    "\n",
    "6. Comparación entre datos reales y predicción. Análisis de los resultados."
   ]
  },
  {
   "cell_type": "code",
   "execution_count": 379,
   "metadata": {},
   "outputs": [],
   "source": [
    "import pandas as pd\n",
    "import numpy as np\n",
    "import matplotlib.pyplot as plt\n",
    "from sklearn.preprocessing import StandardScaler\n",
    "from sklearn.model_selection import train_test_split\n",
    "import statsmodels.formula.api as smf\n",
    "from sklearn.metrics import mean_absolute_error\n",
    "from sklearn.metrics import r2_score\n",
    "from sklearn.metrics import mean_squared_error\n",
    "from scipy.stats import t \n",
    "import scipy.stats as stats"
   ]
  },
  {
   "cell_type": "code",
   "execution_count": 380,
   "metadata": {},
   "outputs": [],
   "source": [
    "df = pd.read_csv(\"breast_cancer.csv\")"
   ]
  },
  {
   "cell_type": "markdown",
   "metadata": {},
   "source": [
    "Después de leer los datos, lo primero que se tiene que hacer es checar que no haya valores nulos o NaN."
   ]
  },
  {
   "cell_type": "code",
   "execution_count": 381,
   "metadata": {},
   "outputs": [
    {
     "data": {
      "text/plain": [
       "id                         0\n",
       "diagnosis                  0\n",
       "radius_mean                0\n",
       "texture_mean               0\n",
       "perimeter_mean             0\n",
       "area_mean                  0\n",
       "smoothness_mean            0\n",
       "compactness_mean           0\n",
       "concavity_mean             0\n",
       "concave points_mean        0\n",
       "symmetry_mean              0\n",
       "fractal_dimension_mean     0\n",
       "radius_se                  0\n",
       "texture_se                 0\n",
       "perimeter_se               0\n",
       "area_se                    0\n",
       "smoothness_se              0\n",
       "compactness_se             0\n",
       "concavity_se               0\n",
       "concave points_se          0\n",
       "symmetry_se                0\n",
       "fractal_dimension_se       0\n",
       "radius_worst               0\n",
       "texture_worst              0\n",
       "perimeter_worst            0\n",
       "area_worst                 0\n",
       "smoothness_worst           0\n",
       "compactness_worst          0\n",
       "concavity_worst            0\n",
       "concave points_worst       0\n",
       "symmetry_worst             0\n",
       "fractal_dimension_worst    0\n",
       "dtype: int64"
      ]
     },
     "execution_count": 381,
     "metadata": {},
     "output_type": "execute_result"
    }
   ],
   "source": [
    "df.isna().sum()"
   ]
  },
  {
   "cell_type": "code",
   "execution_count": 382,
   "metadata": {},
   "outputs": [
    {
     "data": {
      "text/plain": [
       "id                         0\n",
       "diagnosis                  0\n",
       "radius_mean                0\n",
       "texture_mean               0\n",
       "perimeter_mean             0\n",
       "area_mean                  0\n",
       "smoothness_mean            0\n",
       "compactness_mean           0\n",
       "concavity_mean             0\n",
       "concave points_mean        0\n",
       "symmetry_mean              0\n",
       "fractal_dimension_mean     0\n",
       "radius_se                  0\n",
       "texture_se                 0\n",
       "perimeter_se               0\n",
       "area_se                    0\n",
       "smoothness_se              0\n",
       "compactness_se             0\n",
       "concavity_se               0\n",
       "concave points_se          0\n",
       "symmetry_se                0\n",
       "fractal_dimension_se       0\n",
       "radius_worst               0\n",
       "texture_worst              0\n",
       "perimeter_worst            0\n",
       "area_worst                 0\n",
       "smoothness_worst           0\n",
       "compactness_worst          0\n",
       "concavity_worst            0\n",
       "concave points_worst       0\n",
       "symmetry_worst             0\n",
       "fractal_dimension_worst    0\n",
       "dtype: int64"
      ]
     },
     "execution_count": 382,
     "metadata": {},
     "output_type": "execute_result"
    }
   ],
   "source": [
    "df.isnull().sum()"
   ]
  },
  {
   "cell_type": "markdown",
   "metadata": {},
   "source": [
    "No hubo valores faltantes en la base de datos, por lo que no es necesario imputar los datos.\n",
    "\n",
    "Ahora, se checan qué tipos de datos hay presentes en el dataframe."
   ]
  },
  {
   "cell_type": "code",
   "execution_count": 383,
   "metadata": {},
   "outputs": [
    {
     "data": {
      "text/plain": [
       "id                           int64\n",
       "diagnosis                   object\n",
       "radius_mean                float64\n",
       "texture_mean               float64\n",
       "perimeter_mean             float64\n",
       "area_mean                  float64\n",
       "smoothness_mean            float64\n",
       "compactness_mean           float64\n",
       "concavity_mean             float64\n",
       "concave points_mean        float64\n",
       "symmetry_mean              float64\n",
       "fractal_dimension_mean     float64\n",
       "radius_se                  float64\n",
       "texture_se                 float64\n",
       "perimeter_se               float64\n",
       "area_se                    float64\n",
       "smoothness_se              float64\n",
       "compactness_se             float64\n",
       "concavity_se               float64\n",
       "concave points_se          float64\n",
       "symmetry_se                float64\n",
       "fractal_dimension_se       float64\n",
       "radius_worst               float64\n",
       "texture_worst              float64\n",
       "perimeter_worst            float64\n",
       "area_worst                 float64\n",
       "smoothness_worst           float64\n",
       "compactness_worst          float64\n",
       "concavity_worst            float64\n",
       "concave points_worst       float64\n",
       "symmetry_worst             float64\n",
       "fractal_dimension_worst    float64\n",
       "dtype: object"
      ]
     },
     "execution_count": 383,
     "metadata": {},
     "output_type": "execute_result"
    }
   ],
   "source": [
    "df.dtypes"
   ]
  },
  {
   "cell_type": "markdown",
   "metadata": {},
   "source": [
    "Hay sólo un tipo de dato categórico, el cual es \"diagnosis\", hay que comprobar la cantidad de categorías que esa variable puede tomar."
   ]
  },
  {
   "cell_type": "code",
   "execution_count": 384,
   "metadata": {},
   "outputs": [
    {
     "data": {
      "text/plain": [
       "array(['M', 'B'], dtype=object)"
      ]
     },
     "execution_count": 384,
     "metadata": {},
     "output_type": "execute_result"
    }
   ],
   "source": [
    "df[\"diagnosis\"].unique()"
   ]
  },
  {
   "cell_type": "markdown",
   "metadata": {},
   "source": [
    "Sólo hay dos valores posibles, por lo que se convierten en dummies, pero se coloca sólo una columna dentro del modelo."
   ]
  },
  {
   "cell_type": "code",
   "execution_count": 385,
   "metadata": {},
   "outputs": [],
   "source": [
    "dummies = pd.get_dummies(df[\"diagnosis\"], prefix=\"Diag\")\n",
    "dummies = dummies.drop(columns=[\"Diag_M\"])"
   ]
  },
  {
   "cell_type": "code",
   "execution_count": 386,
   "metadata": {},
   "outputs": [],
   "source": [
    "df = pd.concat([df, dummies], axis=1)\n",
    "df = df.drop(columns=[\"diagnosis\"])"
   ]
  },
  {
   "cell_type": "markdown",
   "metadata": {},
   "source": [
    "Se comprueba que no haya correlaciones muy altas en el modelo, esto porque si dentro de la matriz hay una correlación alta, no se puede obtener la inversa, la cual es una operación importante para una regresión lineal."
   ]
  },
  {
   "cell_type": "code",
   "execution_count": 387,
   "metadata": {},
   "outputs": [],
   "source": [
    "corre = df.corr()"
   ]
  },
  {
   "cell_type": "code",
   "execution_count": 388,
   "metadata": {},
   "outputs": [
    {
     "data": {
      "text/plain": [
       "(array([ 1,  1,  1,  1,  3,  3,  3,  3,  4,  4,  4,  4,  4, 11, 11, 13, 14,\n",
       "        21, 21, 21, 21, 21, 23, 23, 23, 23, 23, 24, 24, 24]),\n",
       " array([ 3,  4, 21, 23,  1,  4, 21, 23,  1,  3, 21, 23, 24, 13, 14, 11, 11,\n",
       "         1,  3,  4, 23, 24,  1,  3,  4, 21, 24,  4, 21, 23]))"
      ]
     },
     "execution_count": 388,
     "metadata": {},
     "output_type": "execute_result"
    }
   ],
   "source": [
    "alta_corre = np.where((corre > 0.95) & (corre < 1))\n",
    "alta_corre"
   ]
  },
  {
   "cell_type": "code",
   "execution_count": 389,
   "metadata": {},
   "outputs": [
    {
     "data": {
      "text/plain": [
       "(array([], dtype=int64), array([], dtype=int64))"
      ]
     },
     "execution_count": 389,
     "metadata": {},
     "output_type": "execute_result"
    }
   ],
   "source": [
    "baja_corr = np.where((corre > -1) & (corre < -0.95))\n",
    "baja_corr"
   ]
  },
  {
   "cell_type": "markdown",
   "metadata": {},
   "source": [
    "Como sí hay valores de correlación altos, los datos se deben estandarizar."
   ]
  },
  {
   "cell_type": "markdown",
   "metadata": {},
   "source": [
    "Para estandarizar los datos, se aplica esta fórmula a cada uno de los datos de la matriz:\n",
    "\n",
    "$$Z=\\frac{X-\\mu}{\\sigma}$$\n",
    "\n",
    "Donde:\n",
    "\n",
    "X=Muestra.\n",
    "\n",
    "$\\mu$=Media de la muestra.\n",
    "\n",
    "$\\sigma$=Desviación estándar de la muestra."
   ]
  },
  {
   "cell_type": "code",
   "execution_count": 390,
   "metadata": {},
   "outputs": [],
   "source": [
    "scaler = StandardScaler()\n",
    "df_estandar = scaler.fit_transform(df)\n",
    "df_estandar = pd.DataFrame(df_estandar, columns=df.columns)"
   ]
  },
  {
   "cell_type": "markdown",
   "metadata": {},
   "source": [
    "Dentro del dataframe hay valores con nombres que no pueden ser acceptados, por lo que se deben eliminar los caracteres no aceptados."
   ]
  },
  {
   "cell_type": "code",
   "execution_count": 391,
   "metadata": {},
   "outputs": [],
   "source": [
    "df_estandar = df_estandar.rename(columns={\n",
    "    \"concave points_se\": \"concave_points_se\",\n",
    "    \"concave points_worst\": \"concave_points_worst\",\n",
    "    \"concave points_mean\": \"concave_points_mean\"\n",
    "    })"
   ]
  },
  {
   "cell_type": "code",
   "execution_count": 392,
   "metadata": {},
   "outputs": [],
   "source": [
    "train, test = train_test_split(df_estandar, test_size=0.2, random_state=42)"
   ]
  },
  {
   "cell_type": "code",
   "execution_count": 393,
   "metadata": {},
   "outputs": [],
   "source": [
    "model = smf.ols(formula=\"radius_mean~id+texture_mean+perimeter_mean+area_mean+smoothness_mean+compactness_mean+concavity_mean+concave_points_mean+symmetry_mean+fractal_dimension_mean+radius_se+texture_se+perimeter_se+area_se+smoothness_se+compactness_se+concavity_se+concave_points_se+symmetry_se+fractal_dimension_se+radius_worst+texture_worst+perimeter_worst+area_worst+smoothness_worst+compactness_worst+concavity_worst+concave_points_worst+symmetry_worst+fractal_dimension_worst+Diag_B\", data=train)"
   ]
  },
  {
   "cell_type": "code",
   "execution_count": 394,
   "metadata": {},
   "outputs": [
    {
     "name": "stdout",
     "output_type": "stream",
     "text": [
      "                            OLS Regression Results                            \n",
      "==============================================================================\n",
      "Dep. Variable:            radius_mean   R-squared:                       1.000\n",
      "Model:                            OLS   Adj. R-squared:                  1.000\n",
      "Method:                 Least Squares   F-statistic:                 5.587e+04\n",
      "Date:                Mon, 04 Sep 2023   Prob (F-statistic):               0.00\n",
      "Time:                        22:23:16   Log-Likelihood:                 1245.2\n",
      "No. Observations:                 455   AIC:                            -2426.\n",
      "Df Residuals:                     423   BIC:                            -2295.\n",
      "Df Model:                          31                                         \n",
      "Covariance Type:            nonrobust                                         \n",
      "===========================================================================================\n",
      "                              coef    std err          t      P>|t|      [0.025      0.975]\n",
      "-------------------------------------------------------------------------------------------\n",
      "Intercept                   0.0005      0.001      0.590      0.556      -0.001       0.002\n",
      "id                       4.832e-05      0.001      0.063      0.950      -0.001       0.002\n",
      "texture_mean               -0.0015      0.003     -0.579      0.563      -0.007       0.004\n",
      "perimeter_mean              0.9403      0.018     51.511      0.000       0.904       0.976\n",
      "area_mean                   0.0792      0.014      5.602      0.000       0.051       0.107\n",
      "smoothness_mean             0.0064      0.002      2.964      0.003       0.002       0.011\n",
      "compactness_mean           -0.0584      0.005    -12.042      0.000      -0.068      -0.049\n",
      "concavity_mean             -0.0335      0.006     -5.398      0.000      -0.046      -0.021\n",
      "concave_points_mean        -0.0016      0.006     -0.258      0.796      -0.014       0.011\n",
      "symmetry_mean               0.0034      0.002      2.161      0.031       0.000       0.006\n",
      "fractal_dimension_mean      0.0081      0.003      2.671      0.008       0.002       0.014\n",
      "radius_se                   0.0075      0.007      1.137      0.256      -0.005       0.020\n",
      "texture_se               9.761e-05      0.002      0.061      0.952      -0.003       0.003\n",
      "perimeter_se               -0.0218      0.006     -3.440      0.001      -0.034      -0.009\n",
      "area_se                     0.0026      0.005      0.555      0.579      -0.007       0.012\n",
      "smoothness_se               0.0012      0.001      0.816      0.415      -0.002       0.004\n",
      "compactness_se             -0.0021      0.003     -0.726      0.469      -0.008       0.004\n",
      "concavity_se                0.0109      0.003      3.744      0.000       0.005       0.017\n",
      "concave_points_se           0.0046      0.003      1.726      0.085      -0.001       0.010\n",
      "symmetry_se                 0.0043      0.002      2.432      0.015       0.001       0.008\n",
      "fractal_dimension_se       -0.0037      0.002     -1.629      0.104      -0.008       0.001\n",
      "radius_worst                0.2332      0.019     12.420      0.000       0.196       0.270\n",
      "texture_worst               0.0003      0.003      0.091      0.928      -0.006       0.007\n",
      "perimeter_worst            -0.1075      0.015     -7.065      0.000      -0.137      -0.078\n",
      "area_worst                 -0.0907      0.014     -6.574      0.000      -0.118      -0.064\n",
      "smoothness_worst           -0.0055      0.002     -2.237      0.026      -0.010      -0.001\n",
      "compactness_worst           0.0160      0.005      3.449      0.001       0.007       0.025\n",
      "concavity_worst             0.0011      0.004      0.249      0.803      -0.007       0.009\n",
      "concave_points_worst        0.0017      0.005      0.362      0.717      -0.008       0.011\n",
      "symmetry_worst             -0.0043      0.002     -1.858      0.064      -0.009       0.000\n",
      "fractal_dimension_worst    -0.0032      0.003     -0.952      0.342      -0.010       0.003\n",
      "Diag_B                      0.0016      0.002      0.985      0.325      -0.002       0.005\n",
      "==============================================================================\n",
      "Omnibus:                       48.798   Durbin-Watson:                   2.088\n",
      "Prob(Omnibus):                  0.000   Jarque-Bera (JB):              186.833\n",
      "Skew:                           0.389   Prob(JB):                     2.69e-41\n",
      "Kurtosis:                       6.041   Cond. No.                         141.\n",
      "==============================================================================\n",
      "\n",
      "Notes:\n",
      "[1] Standard Errors assume that the covariance matrix of the errors is correctly specified.\n"
     ]
    }
   ],
   "source": [
    "model = model.fit()\n",
    "print(model.summary())"
   ]
  },
  {
   "cell_type": "markdown",
   "metadata": {},
   "source": [
    "La prueba T es una prueba que se realiza para poder saber si los coeficientes son significativos para el modelo y por lo tanto deberían quedarse en el ajuste o deberían eliminarse para evitar que el modelo sea demasiado complicado."
   ]
  },
  {
   "cell_type": "code",
   "execution_count": 395,
   "metadata": {},
   "outputs": [
    {
     "data": {
      "image/png": "[encoded data removed]",
      "text/plain": [
       "<Figure size 640x480 with 1 Axes>"
      ]
     },
     "metadata": {},
     "output_type": "display_data"
    }
   ],
   "source": [
    "indice_columna = 0\n",
    "dof = df_estandar.shape[0] - 1\n",
    "alpha = 0.05\n",
    "ntails = 2\n",
    "\n",
    "tcrit = abs(stats.t.ppf(alpha/ntails, dof))\n",
    "\n",
    "xs = np.linspace(-5,5,1000)\n",
    "\n",
    "plt.plot(xs, stats.t.pdf(xs,dof), 'k')\n",
    "plt.vlines([-tcrit, tcrit], 0.0, stats.t.pdf(tcrit,dof), colors='r')\n",
    "\n",
    "for i in range(1, len(df_estandar.columns)):\n",
    "    t = model.tvalues[i]\n",
    "    plt.plot(t, 0.008, marker=\"o\", markersize=10, markerfacecolor=\"orange\")\n",
    "\n",
    "plt.axvspan(-tcrit, tcrit, facecolor='green', alpha=0.3, label = 'Aceptación')\n",
    "plt.axvspan(-15, -tcrit, facecolor='red', alpha=0.3, label = 'Rechazo')\n",
    "plt.axvspan(tcrit, 55, facecolor='red', alpha=0.3)\n",
    "plt.show()"
   ]
  },
  {
   "cell_type": "markdown",
   "metadata": {},
   "source": [
    "Como se puede ver, hay varios valores que están dentro de la zona de rechazo, por lo que se puede asumir que dentro del dataframe hay muchas variables que no son significativas dentro del modelo, por lo que deberán ser eliminadas para que el modelo no sea excesivamente complejo y, por lo tanto, no acabe sobreajustado."
   ]
  },
  {
   "cell_type": "code",
   "execution_count": 396,
   "metadata": {},
   "outputs": [
    {
     "data": {
      "text/plain": [
       "<class 'statsmodels.stats.contrast.ContrastResults'>\n",
       "<F test: F=55869.535597468726, p=0.0, df_denom=423, df_num=31>"
      ]
     },
     "execution_count": 396,
     "metadata": {},
     "output_type": "execute_result"
    }
   ],
   "source": [
    "fTest = np.identity(len(model.params))\n",
    "fTest = fTest[1:,:]\n",
    "model.f_test(fTest)"
   ]
  },
  {
   "cell_type": "code",
   "execution_count": 397,
   "metadata": {},
   "outputs": [
    {
     "name": "stdout",
     "output_type": "stream",
     "text": [
      "Valor critico 1.4861716526654176\n"
     ]
    },
    {
     "data": {
      "image/png": "[encoded data removed]",
      "text/plain": [
       "<Figure size 1000x500 with 1 Axes>"
      ]
     },
     "metadata": {},
     "output_type": "display_data"
    }
   ],
   "source": [
    "rand_f_samples = stats.f.rvs(dfn=30, dfd=424, size=100000)\n",
    "\n",
    "plt.figure(figsize=(10, 5))\n",
    "\n",
    "plt.plot(\n",
    "    np.arange(0, 4, 0.1),\n",
    "    stats.f.pdf(np.arange(0, 4, 0.1), dfn=1, dfd=453),\n",
    "    \"-\",\n",
    "    linewidth=2,\n",
    "    color=\"orange\",\n",
    ")\n",
    "\n",
    "plt.xlim(0, 2)\n",
    "plt.ylim(0, 2)\n",
    "\n",
    "plt.title(\"Distribución F con zona de aceptación y rechazo\")\n",
    "\n",
    "critical_value = stats.f.ppf(q=1-.05, dfn=30, dfd=424)\n",
    "print('Valor critico', critical_value)\n",
    "\n",
    "plt.vlines([-critical_value, critical_value],0,4, colors='r', label = 'valores criticos')\n",
    "plt.axvspan(-critical_value, critical_value, facecolor='green', alpha=0.2)\n",
    "plt.axvspan(critical_value, 10, facecolor='red', alpha=0.2)\n",
    "\n",
    "\n",
    "plt.show()"
   ]
  },
  {
   "cell_type": "markdown",
   "metadata": {},
   "source": [
    "La prueba F es un método para evaluar y poder deducir si la Hipótesis Nula se acepta o se rechaza.\n",
    "\n",
    "Como se puede ver, la zona de rechazo va más allá de 1.5 y el valor que la prueba F nos arrojó fue de más de 5000, por lo que la hipótesis nula se rechaza y, por lo tanto, se comprueba que el modelo sí es significativo."
   ]
  },
  {
   "cell_type": "markdown",
   "metadata": {},
   "source": [
    "## Modelo de regresión hacia atrás"
   ]
  },
  {
   "cell_type": "markdown",
   "metadata": {},
   "source": [
    "A partir de este momento, se comenzarán a eliminar los coeficientes que muestren un p-valor elevado (mayor a 0.05). Esto debido a que si el p-valor es muy elevado, se acepta la hipótesis nula:\n",
    "\n",
    "$$H_0:\\beta=0$$\n",
    "\n",
    "Esto significa que el coeficiente es igual a 0, por lo que no es significativo para el modelo y, por lo tanto, se eliminará del modelo.\n",
    "\n",
    "Si bien en el resumen del modelo puede haber muchas variables que muestren un p-valor elevado, el método indica que eliminemos sólo el más alto, para después volver a ajustar el modelo y repetir el proceso hasta que no queden coeficientes no significativos dentro del modelo."
   ]
  },
  {
   "cell_type": "code",
   "execution_count": 398,
   "metadata": {},
   "outputs": [
    {
     "name": "stdout",
     "output_type": "stream",
     "text": [
      "                            OLS Regression Results                            \n",
      "==============================================================================\n",
      "Dep. Variable:            radius_mean   R-squared:                       1.000\n",
      "Model:                            OLS   Adj. R-squared:                  1.000\n",
      "Method:                 Least Squares   F-statistic:                 5.587e+04\n",
      "Date:                Mon, 04 Sep 2023   Prob (F-statistic):               0.00\n",
      "Time:                        22:23:16   Log-Likelihood:                 1245.2\n",
      "No. Observations:                 455   AIC:                            -2426.\n",
      "Df Residuals:                     423   BIC:                            -2295.\n",
      "Df Model:                          31                                         \n",
      "Covariance Type:            nonrobust                                         \n",
      "===========================================================================================\n",
      "                              coef    std err          t      P>|t|      [0.025      0.975]\n",
      "-------------------------------------------------------------------------------------------\n",
      "Intercept                   0.0005      0.001      0.590      0.556      -0.001       0.002\n",
      "id                       4.832e-05      0.001      0.063      0.950      -0.001       0.002\n",
      "texture_mean               -0.0015      0.003     -0.579      0.563      -0.007       0.004\n",
      "perimeter_mean              0.9403      0.018     51.511      0.000       0.904       0.976\n",
      "area_mean                   0.0792      0.014      5.602      0.000       0.051       0.107\n",
      "smoothness_mean             0.0064      0.002      2.964      0.003       0.002       0.011\n",
      "compactness_mean           -0.0584      0.005    -12.042      0.000      -0.068      -0.049\n",
      "concavity_mean             -0.0335      0.006     -5.398      0.000      -0.046      -0.021\n",
      "concave_points_mean        -0.0016      0.006     -0.258      0.796      -0.014       0.011\n",
      "symmetry_mean               0.0034      0.002      2.161      0.031       0.000       0.006\n",
      "fractal_dimension_mean      0.0081      0.003      2.671      0.008       0.002       0.014\n",
      "radius_se                   0.0075      0.007      1.137      0.256      -0.005       0.020\n",
      "texture_se               9.761e-05      0.002      0.061      0.952      -0.003       0.003\n",
      "perimeter_se               -0.0218      0.006     -3.440      0.001      -0.034      -0.009\n",
      "area_se                     0.0026      0.005      0.555      0.579      -0.007       0.012\n",
      "smoothness_se               0.0012      0.001      0.816      0.415      -0.002       0.004\n",
      "compactness_se             -0.0021      0.003     -0.726      0.469      -0.008       0.004\n",
      "concavity_se                0.0109      0.003      3.744      0.000       0.005       0.017\n",
      "concave_points_se           0.0046      0.003      1.726      0.085      -0.001       0.010\n",
      "symmetry_se                 0.0043      0.002      2.432      0.015       0.001       0.008\n",
      "fractal_dimension_se       -0.0037      0.002     -1.629      0.104      -0.008       0.001\n",
      "radius_worst                0.2332      0.019     12.420      0.000       0.196       0.270\n",
      "texture_worst               0.0003      0.003      0.091      0.928      -0.006       0.007\n",
      "perimeter_worst            -0.1075      0.015     -7.065      0.000      -0.137      -0.078\n",
      "area_worst                 -0.0907      0.014     -6.574      0.000      -0.118      -0.064\n",
      "smoothness_worst           -0.0055      0.002     -2.237      0.026      -0.010      -0.001\n",
      "compactness_worst           0.0160      0.005      3.449      0.001       0.007       0.025\n",
      "concavity_worst             0.0011      0.004      0.249      0.803      -0.007       0.009\n",
      "concave_points_worst        0.0017      0.005      0.362      0.717      -0.008       0.011\n",
      "symmetry_worst             -0.0043      0.002     -1.858      0.064      -0.009       0.000\n",
      "fractal_dimension_worst    -0.0032      0.003     -0.952      0.342      -0.010       0.003\n",
      "Diag_B                      0.0016      0.002      0.985      0.325      -0.002       0.005\n",
      "==============================================================================\n",
      "Omnibus:                       48.798   Durbin-Watson:                   2.088\n",
      "Prob(Omnibus):                  0.000   Jarque-Bera (JB):              186.833\n",
      "Skew:                           0.389   Prob(JB):                     2.69e-41\n",
      "Kurtosis:                       6.041   Cond. No.                         141.\n",
      "==============================================================================\n",
      "\n",
      "Notes:\n",
      "[1] Standard Errors assume that the covariance matrix of the errors is correctly specified.\n"
     ]
    }
   ],
   "source": [
    "print(model.summary())"
   ]
  },
  {
   "cell_type": "markdown",
   "metadata": {},
   "source": [
    "En este primer resumen del modelo se puede ver que el valor de *ID* es el más alto, por lo tanto, se eliminará de la siguiente fórmula y se volverá a ajustar el modelo.\n",
    "\n",
    "A partir de este momento, sólo se mencionarán de forma rápida las variables que se eliminarán sin explicar muy a detalle el procedimiento, debido a que la selección se llevará a cabo de la misma forma."
   ]
  },
  {
   "cell_type": "code",
   "execution_count": 399,
   "metadata": {},
   "outputs": [
    {
     "name": "stdout",
     "output_type": "stream",
     "text": [
      "                            OLS Regression Results                            \n",
      "==============================================================================\n",
      "Dep. Variable:            radius_mean   R-squared:                       1.000\n",
      "Model:                            OLS   Adj. R-squared:                  1.000\n",
      "Method:                 Least Squares   F-statistic:                 5.787e+04\n",
      "Date:                Mon, 04 Sep 2023   Prob (F-statistic):               0.00\n",
      "Time:                        22:23:16   Log-Likelihood:                 1245.2\n",
      "No. Observations:                 455   AIC:                            -2428.\n",
      "Df Residuals:                     424   BIC:                            -2301.\n",
      "Df Model:                          30                                         \n",
      "Covariance Type:            nonrobust                                         \n",
      "===========================================================================================\n",
      "                              coef    std err          t      P>|t|      [0.025      0.975]\n",
      "-------------------------------------------------------------------------------------------\n",
      "Intercept                   0.0005      0.001      0.591      0.555      -0.001       0.002\n",
      "texture_mean               -0.0015      0.003     -0.577      0.564      -0.007       0.004\n",
      "perimeter_mean              0.9403      0.018     51.594      0.000       0.904       0.976\n",
      "area_mean                   0.0792      0.014      5.611      0.000       0.051       0.107\n",
      "smoothness_mean             0.0064      0.002      2.974      0.003       0.002       0.011\n",
      "compactness_mean           -0.0584      0.005    -12.061      0.000      -0.068      -0.049\n",
      "concavity_mean             -0.0335      0.006     -5.405      0.000      -0.046      -0.021\n",
      "concave_points_mean        -0.0016      0.006     -0.260      0.795      -0.014       0.011\n",
      "symmetry_mean               0.0034      0.002      2.162      0.031       0.000       0.006\n",
      "fractal_dimension_mean      0.0081      0.003      2.673      0.008       0.002       0.014\n",
      "radius_se                   0.0075      0.007      1.137      0.256      -0.005       0.020\n",
      "texture_se               9.171e-05      0.002      0.057      0.954      -0.003       0.003\n",
      "perimeter_se               -0.0218      0.006     -3.446      0.001      -0.034      -0.009\n",
      "area_se                     0.0027      0.005      0.565      0.572      -0.007       0.012\n",
      "smoothness_se               0.0012      0.001      0.827      0.409      -0.002       0.004\n",
      "compactness_se             -0.0021      0.003     -0.728      0.467      -0.008       0.004\n",
      "concavity_se                0.0109      0.003      3.748      0.000       0.005       0.017\n",
      "concave_points_se           0.0046      0.003      1.742      0.082      -0.001       0.010\n",
      "symmetry_se                 0.0043      0.002      2.435      0.015       0.001       0.008\n",
      "fractal_dimension_se       -0.0037      0.002     -1.631      0.104      -0.008       0.001\n",
      "radius_worst                0.2332      0.019     12.436      0.000       0.196       0.270\n",
      "texture_worst               0.0003      0.003      0.091      0.927      -0.006       0.007\n",
      "perimeter_worst            -0.1075      0.015     -7.074      0.000      -0.137      -0.078\n",
      "area_worst                 -0.0907      0.014     -6.583      0.000      -0.118      -0.064\n",
      "smoothness_worst           -0.0055      0.002     -2.244      0.025      -0.010      -0.001\n",
      "compactness_worst           0.0160      0.005      3.455      0.001       0.007       0.025\n",
      "concavity_worst             0.0011      0.004      0.250      0.803      -0.007       0.009\n",
      "concave_points_worst        0.0017      0.005      0.360      0.719      -0.008       0.011\n",
      "symmetry_worst             -0.0043      0.002     -1.859      0.064      -0.009       0.000\n",
      "fractal_dimension_worst    -0.0032      0.003     -0.952      0.341      -0.010       0.003\n",
      "Diag_B                      0.0016      0.002      0.987      0.324      -0.002       0.005\n",
      "==============================================================================\n",
      "Omnibus:                       48.931   Durbin-Watson:                   2.089\n",
      "Prob(Omnibus):                  0.000   Jarque-Bera (JB):              187.327\n",
      "Skew:                           0.391   Prob(JB):                     2.10e-41\n",
      "Kurtosis:                       6.044   Cond. No.                         140.\n",
      "==============================================================================\n",
      "\n",
      "Notes:\n",
      "[1] Standard Errors assume that the covariance matrix of the errors is correctly specified.\n"
     ]
    }
   ],
   "source": [
    "model = smf.ols(formula=\"radius_mean~texture_mean+perimeter_mean+area_mean+smoothness_mean+compactness_mean+concavity_mean+concave_points_mean+symmetry_mean+fractal_dimension_mean+radius_se+texture_se+perimeter_se+area_se+smoothness_se+compactness_se+concavity_se+concave_points_se+symmetry_se+fractal_dimension_se+radius_worst+texture_worst+perimeter_worst+area_worst+smoothness_worst+compactness_worst+concavity_worst+concave_points_worst+symmetry_worst+fractal_dimension_worst+Diag_B\", data=train)\n",
    "model = model.fit()\n",
    "print(model.summary())"
   ]
  },
  {
   "cell_type": "markdown",
   "metadata": {},
   "source": [
    "Se elimina texture_se"
   ]
  },
  {
   "cell_type": "code",
   "execution_count": 400,
   "metadata": {},
   "outputs": [
    {
     "name": "stdout",
     "output_type": "stream",
     "text": [
      "                            OLS Regression Results                            \n",
      "==============================================================================\n",
      "Dep. Variable:            radius_mean   R-squared:                       1.000\n",
      "Model:                            OLS   Adj. R-squared:                  1.000\n",
      "Method:                 Least Squares   F-statistic:                 6.000e+04\n",
      "Date:                Mon, 04 Sep 2023   Prob (F-statistic):               0.00\n",
      "Time:                        22:23:17   Log-Likelihood:                 1245.2\n",
      "No. Observations:                 455   AIC:                            -2430.\n",
      "Df Residuals:                     425   BIC:                            -2307.\n",
      "Df Model:                          29                                         \n",
      "Covariance Type:            nonrobust                                         \n",
      "===========================================================================================\n",
      "                              coef    std err          t      P>|t|      [0.025      0.975]\n",
      "-------------------------------------------------------------------------------------------\n",
      "Intercept                   0.0005      0.001      0.591      0.555      -0.001       0.002\n",
      "texture_mean               -0.0016      0.002     -0.717      0.474      -0.006       0.003\n",
      "perimeter_mean              0.9405      0.018     52.557      0.000       0.905       0.976\n",
      "area_mean                   0.0791      0.014      5.670      0.000       0.052       0.107\n",
      "smoothness_mean             0.0064      0.002      2.997      0.003       0.002       0.011\n",
      "compactness_mean           -0.0585      0.005    -12.182      0.000      -0.068      -0.049\n",
      "concavity_mean             -0.0335      0.006     -5.412      0.000      -0.046      -0.021\n",
      "concave_points_mean        -0.0016      0.006     -0.259      0.796      -0.014       0.011\n",
      "symmetry_mean               0.0034      0.002      2.252      0.025       0.000       0.006\n",
      "fractal_dimension_mean      0.0082      0.003      2.689      0.007       0.002       0.014\n",
      "radius_se                   0.0075      0.007      1.154      0.249      -0.005       0.020\n",
      "perimeter_se               -0.0218      0.006     -3.455      0.001      -0.034      -0.009\n",
      "area_se                     0.0026      0.005      0.568      0.571      -0.006       0.012\n",
      "smoothness_se               0.0012      0.001      0.841      0.401      -0.002       0.004\n",
      "compactness_se             -0.0021      0.003     -0.731      0.465      -0.008       0.004\n",
      "concavity_se                0.0109      0.003      3.752      0.000       0.005       0.017\n",
      "concave_points_se           0.0046      0.003      1.746      0.082      -0.001       0.010\n",
      "symmetry_se                 0.0043      0.002      2.701      0.007       0.001       0.007\n",
      "fractal_dimension_se       -0.0037      0.002     -1.633      0.103      -0.008       0.001\n",
      "radius_worst                0.2331      0.019     12.552      0.000       0.197       0.270\n",
      "texture_worst               0.0004      0.002      0.186      0.853      -0.004       0.005\n",
      "perimeter_worst            -0.1075      0.015     -7.111      0.000      -0.137      -0.078\n",
      "area_worst                 -0.0906      0.014     -6.695      0.000      -0.117      -0.064\n",
      "smoothness_worst           -0.0055      0.002     -2.276      0.023      -0.010      -0.001\n",
      "compactness_worst           0.0160      0.005      3.467      0.001       0.007       0.025\n",
      "concavity_worst             0.0011      0.004      0.249      0.803      -0.007       0.009\n",
      "concave_points_worst        0.0017      0.005      0.358      0.721      -0.008       0.011\n",
      "symmetry_worst             -0.0043      0.002     -2.009      0.045      -0.009   -9.44e-05\n",
      "fractal_dimension_worst    -0.0032      0.003     -0.953      0.341      -0.010       0.003\n",
      "Diag_B                      0.0016      0.002      0.989      0.323      -0.002       0.005\n",
      "==============================================================================\n",
      "Omnibus:                       48.941   Durbin-Watson:                   2.089\n",
      "Prob(Omnibus):                  0.000   Jarque-Bera (JB):              187.320\n",
      "Skew:                           0.391   Prob(JB):                     2.11e-41\n",
      "Kurtosis:                       6.044   Cond. No.                         138.\n",
      "==============================================================================\n",
      "\n",
      "Notes:\n",
      "[1] Standard Errors assume that the covariance matrix of the errors is correctly specified.\n"
     ]
    }
   ],
   "source": [
    "model = smf.ols(formula=\"radius_mean~texture_mean+perimeter_mean+area_mean+smoothness_mean+compactness_mean+concavity_mean+concave_points_mean+symmetry_mean+fractal_dimension_mean+radius_se+perimeter_se+area_se+smoothness_se+compactness_se+concavity_se+concave_points_se+symmetry_se+fractal_dimension_se+radius_worst+texture_worst+perimeter_worst+area_worst+smoothness_worst+compactness_worst+concavity_worst+concave_points_worst+symmetry_worst+fractal_dimension_worst+Diag_B\", data=train)\n",
    "model = model.fit()\n",
    "print(model.summary())"
   ]
  },
  {
   "cell_type": "markdown",
   "metadata": {},
   "source": [
    "Se elimina texture worst"
   ]
  },
  {
   "cell_type": "code",
   "execution_count": 401,
   "metadata": {},
   "outputs": [
    {
     "name": "stdout",
     "output_type": "stream",
     "text": [
      "                            OLS Regression Results                            \n",
      "==============================================================================\n",
      "Dep. Variable:            radius_mean   R-squared:                       1.000\n",
      "Model:                            OLS   Adj. R-squared:                  1.000\n",
      "Method:                 Least Squares   F-statistic:                 6.229e+04\n",
      "Date:                Mon, 04 Sep 2023   Prob (F-statistic):               0.00\n",
      "Time:                        22:23:17   Log-Likelihood:                 1245.2\n",
      "No. Observations:                 455   AIC:                            -2432.\n",
      "Df Residuals:                     426   BIC:                            -2313.\n",
      "Df Model:                          28                                         \n",
      "Covariance Type:            nonrobust                                         \n",
      "===========================================================================================\n",
      "                              coef    std err          t      P>|t|      [0.025      0.975]\n",
      "-------------------------------------------------------------------------------------------\n",
      "Intercept                   0.0005      0.001      0.592      0.554      -0.001       0.002\n",
      "texture_mean               -0.0012      0.001     -1.392      0.165      -0.003       0.001\n",
      "perimeter_mean              0.9403      0.018     52.712      0.000       0.905       0.975\n",
      "area_mean                   0.0791      0.014      5.680      0.000       0.052       0.107\n",
      "smoothness_mean             0.0064      0.002      2.998      0.003       0.002       0.011\n",
      "compactness_mean           -0.0585      0.005    -12.236      0.000      -0.068      -0.049\n",
      "concavity_mean             -0.0334      0.006     -5.415      0.000      -0.046      -0.021\n",
      "concave_points_mean        -0.0016      0.006     -0.261      0.794      -0.014       0.011\n",
      "symmetry_mean               0.0034      0.001      2.257      0.025       0.000       0.006\n",
      "fractal_dimension_mean      0.0081      0.003      2.687      0.007       0.002       0.014\n",
      "radius_se                   0.0074      0.006      1.143      0.254      -0.005       0.020\n",
      "perimeter_se               -0.0217      0.006     -3.456      0.001      -0.034      -0.009\n",
      "area_se                     0.0026      0.005      0.569      0.570      -0.006       0.012\n",
      "smoothness_se               0.0012      0.001      0.827      0.409      -0.002       0.004\n",
      "compactness_se             -0.0020      0.003     -0.720      0.472      -0.008       0.004\n",
      "concavity_se                0.0109      0.003      3.762      0.000       0.005       0.017\n",
      "concave_points_se           0.0045      0.003      1.739      0.083      -0.001       0.010\n",
      "symmetry_se                 0.0043      0.002      2.698      0.007       0.001       0.007\n",
      "fractal_dimension_se       -0.0037      0.002     -1.627      0.105      -0.008       0.001\n",
      "radius_worst                0.2332      0.019     12.594      0.000       0.197       0.270\n",
      "perimeter_worst            -0.1075      0.015     -7.120      0.000      -0.137      -0.078\n",
      "area_worst                 -0.0906      0.014     -6.707      0.000      -0.117      -0.064\n",
      "smoothness_worst           -0.0054      0.002     -2.278      0.023      -0.010      -0.001\n",
      "compactness_worst           0.0160      0.005      3.469      0.001       0.007       0.025\n",
      "concavity_worst             0.0010      0.004      0.241      0.809      -0.007       0.009\n",
      "concave_points_worst        0.0018      0.005      0.384      0.701      -0.007       0.011\n",
      "symmetry_worst             -0.0043      0.002     -2.005      0.046      -0.009   -8.41e-05\n",
      "fractal_dimension_worst    -0.0032      0.003     -0.959      0.338      -0.010       0.003\n",
      "Diag_B                      0.0016      0.002      0.980      0.328      -0.002       0.005\n",
      "==============================================================================\n",
      "Omnibus:                       49.155   Durbin-Watson:                   2.089\n",
      "Prob(Omnibus):                  0.000   Jarque-Bera (JB):              188.646\n",
      "Skew:                           0.393   Prob(JB):                     1.09e-41\n",
      "Kurtosis:                       6.055   Cond. No.                         137.\n",
      "==============================================================================\n",
      "\n",
      "Notes:\n",
      "[1] Standard Errors assume that the covariance matrix of the errors is correctly specified.\n"
     ]
    }
   ],
   "source": [
    "model = smf.ols(formula=\"radius_mean~texture_mean+perimeter_mean+area_mean+smoothness_mean+compactness_mean+concavity_mean+concave_points_mean+symmetry_mean+fractal_dimension_mean+radius_se+perimeter_se+area_se+smoothness_se+compactness_se+concavity_se+concave_points_se+symmetry_se+fractal_dimension_se+radius_worst+perimeter_worst+area_worst+smoothness_worst+compactness_worst+concavity_worst+concave_points_worst+symmetry_worst+fractal_dimension_worst+Diag_B\", data=train)\n",
    "model = model.fit()\n",
    "print(model.summary())"
   ]
  },
  {
   "cell_type": "markdown",
   "metadata": {},
   "source": [
    "Se elimina concavity worst"
   ]
  },
  {
   "cell_type": "code",
   "execution_count": 402,
   "metadata": {},
   "outputs": [
    {
     "name": "stdout",
     "output_type": "stream",
     "text": [
      "                            OLS Regression Results                            \n",
      "==============================================================================\n",
      "Dep. Variable:            radius_mean   R-squared:                       1.000\n",
      "Model:                            OLS   Adj. R-squared:                  1.000\n",
      "Method:                 Least Squares   F-statistic:                 6.474e+04\n",
      "Date:                Mon, 04 Sep 2023   Prob (F-statistic):               0.00\n",
      "Time:                        22:23:17   Log-Likelihood:                 1245.2\n",
      "No. Observations:                 455   AIC:                            -2434.\n",
      "Df Residuals:                     427   BIC:                            -2319.\n",
      "Df Model:                          27                                         \n",
      "Covariance Type:            nonrobust                                         \n",
      "===========================================================================================\n",
      "                              coef    std err          t      P>|t|      [0.025      0.975]\n",
      "-------------------------------------------------------------------------------------------\n",
      "Intercept                   0.0005      0.001      0.598      0.550      -0.001       0.002\n",
      "texture_mean               -0.0012      0.001     -1.407      0.160      -0.003       0.000\n",
      "perimeter_mean              0.9405      0.018     52.832      0.000       0.905       0.975\n",
      "area_mean                   0.0790      0.014      5.681      0.000       0.052       0.106\n",
      "smoothness_mean             0.0064      0.002      3.049      0.002       0.002       0.011\n",
      "compactness_mean           -0.0587      0.005    -12.514      0.000      -0.068      -0.050\n",
      "concavity_mean             -0.0326      0.005     -6.439      0.000      -0.043      -0.023\n",
      "concave_points_mean        -0.0022      0.006     -0.372      0.710      -0.014       0.009\n",
      "symmetry_mean               0.0034      0.001      2.261      0.024       0.000       0.006\n",
      "fractal_dimension_mean      0.0081      0.003      2.679      0.008       0.002       0.014\n",
      "radius_se                   0.0074      0.006      1.148      0.252      -0.005       0.020\n",
      "perimeter_se               -0.0217      0.006     -3.457      0.001      -0.034      -0.009\n",
      "area_se                     0.0025      0.005      0.546      0.585      -0.006       0.011\n",
      "smoothness_se               0.0012      0.001      0.817      0.415      -0.002       0.004\n",
      "compactness_se             -0.0020      0.003     -0.721      0.471      -0.008       0.004\n",
      "concavity_se                0.0111      0.003      3.994      0.000       0.006       0.017\n",
      "concave_points_se           0.0045      0.003      1.724      0.085      -0.001       0.010\n",
      "symmetry_se                 0.0043      0.002      2.721      0.007       0.001       0.007\n",
      "fractal_dimension_se       -0.0038      0.002     -1.728      0.085      -0.008       0.001\n",
      "radius_worst                0.2330      0.018     12.612      0.000       0.197       0.269\n",
      "perimeter_worst            -0.1075      0.015     -7.124      0.000      -0.137      -0.078\n",
      "area_worst                 -0.0904      0.013     -6.712      0.000      -0.117      -0.064\n",
      "smoothness_worst           -0.0055      0.002     -2.283      0.023      -0.010      -0.001\n",
      "compactness_worst           0.0163      0.004      3.729      0.000       0.008       0.025\n",
      "concave_points_worst        0.0022      0.004      0.492      0.623      -0.007       0.011\n",
      "symmetry_worst             -0.0044      0.002     -2.037      0.042      -0.009      -0.000\n",
      "fractal_dimension_worst    -0.0030      0.003     -0.930      0.353      -0.009       0.003\n",
      "Diag_B                      0.0015      0.002      0.962      0.337      -0.002       0.005\n",
      "==============================================================================\n",
      "Omnibus:                       49.729   Durbin-Watson:                   2.087\n",
      "Prob(Omnibus):                  0.000   Jarque-Bera (JB):              190.293\n",
      "Skew:                           0.402   Prob(JB):                     4.77e-42\n",
      "Kurtosis:                       6.065   Cond. No.                         133.\n",
      "==============================================================================\n",
      "\n",
      "Notes:\n",
      "[1] Standard Errors assume that the covariance matrix of the errors is correctly specified.\n"
     ]
    }
   ],
   "source": [
    "model = smf.ols(formula=\"radius_mean~texture_mean+perimeter_mean+area_mean+smoothness_mean+compactness_mean+concavity_mean+concave_points_mean+symmetry_mean+fractal_dimension_mean+radius_se+perimeter_se+area_se+smoothness_se+compactness_se+concavity_se+concave_points_se+symmetry_se+fractal_dimension_se+radius_worst+perimeter_worst+area_worst+smoothness_worst+compactness_worst+concave_points_worst+symmetry_worst+fractal_dimension_worst+Diag_B\", data=train)\n",
    "model = model.fit()\n",
    "print(model.summary())"
   ]
  },
  {
   "cell_type": "markdown",
   "metadata": {},
   "source": [
    "Se elimina concave_points_mean"
   ]
  },
  {
   "cell_type": "code",
   "execution_count": 403,
   "metadata": {},
   "outputs": [
    {
     "name": "stdout",
     "output_type": "stream",
     "text": [
      "                            OLS Regression Results                            \n",
      "==============================================================================\n",
      "Dep. Variable:            radius_mean   R-squared:                       1.000\n",
      "Model:                            OLS   Adj. R-squared:                  1.000\n",
      "Method:                 Least Squares   F-statistic:                 6.736e+04\n",
      "Date:                Mon, 04 Sep 2023   Prob (F-statistic):               0.00\n",
      "Time:                        22:23:17   Log-Likelihood:                 1245.1\n",
      "No. Observations:                 455   AIC:                            -2436.\n",
      "Df Residuals:                     428   BIC:                            -2325.\n",
      "Df Model:                          26                                         \n",
      "Covariance Type:            nonrobust                                         \n",
      "===========================================================================================\n",
      "                              coef    std err          t      P>|t|      [0.025      0.975]\n",
      "-------------------------------------------------------------------------------------------\n",
      "Intercept                   0.0005      0.001      0.616      0.538      -0.001       0.002\n",
      "texture_mean               -0.0012      0.001     -1.390      0.165      -0.003       0.001\n",
      "perimeter_mean              0.9408      0.018     52.952      0.000       0.906       0.976\n",
      "area_mean                   0.0782      0.014      5.691      0.000       0.051       0.105\n",
      "smoothness_mean             0.0062      0.002      3.066      0.002       0.002       0.010\n",
      "compactness_mean           -0.0590      0.005    -12.784      0.000      -0.068      -0.050\n",
      "concavity_mean             -0.0338      0.004     -8.919      0.000      -0.041      -0.026\n",
      "symmetry_mean               0.0034      0.001      2.257      0.025       0.000       0.006\n",
      "fractal_dimension_mean      0.0081      0.003      2.685      0.008       0.002       0.014\n",
      "radius_se                   0.0070      0.006      1.103      0.271      -0.006       0.020\n",
      "perimeter_se               -0.0214      0.006     -3.441      0.001      -0.034      -0.009\n",
      "area_se                     0.0027      0.004      0.616      0.538      -0.006       0.012\n",
      "smoothness_se               0.0011      0.001      0.799      0.425      -0.002       0.004\n",
      "compactness_se             -0.0022      0.003     -0.783      0.434      -0.008       0.003\n",
      "concavity_se                0.0116      0.002      4.794      0.000       0.007       0.016\n",
      "concave_points_se           0.0044      0.003      1.703      0.089      -0.001       0.009\n",
      "symmetry_se                 0.0043      0.002      2.714      0.007       0.001       0.007\n",
      "fractal_dimension_se       -0.0038      0.002     -1.732      0.084      -0.008       0.001\n",
      "radius_worst                0.2333      0.018     12.644      0.000       0.197       0.270\n",
      "perimeter_worst            -0.1078      0.015     -7.164      0.000      -0.137      -0.078\n",
      "area_worst                 -0.0903      0.013     -6.714      0.000      -0.117      -0.064\n",
      "smoothness_worst           -0.0053      0.002     -2.257      0.025      -0.010      -0.001\n",
      "compactness_worst           0.0168      0.004      4.028      0.000       0.009       0.025\n",
      "concave_points_worst        0.0014      0.004      0.358      0.721      -0.006       0.009\n",
      "symmetry_worst             -0.0043      0.002     -2.033      0.043      -0.009      -0.000\n",
      "fractal_dimension_worst    -0.0030      0.003     -0.925      0.356      -0.009       0.003\n",
      "Diag_B                      0.0016      0.002      0.993      0.321      -0.002       0.005\n",
      "==============================================================================\n",
      "Omnibus:                       49.738   Durbin-Watson:                   2.085\n",
      "Prob(Omnibus):                  0.000   Jarque-Bera (JB):              191.909\n",
      "Skew:                           0.398   Prob(JB):                     2.13e-42\n",
      "Kurtosis:                       6.080   Cond. No.                         128.\n",
      "==============================================================================\n",
      "\n",
      "Notes:\n",
      "[1] Standard Errors assume that the covariance matrix of the errors is correctly specified.\n"
     ]
    }
   ],
   "source": [
    "model = smf.ols(formula=\"radius_mean~texture_mean+perimeter_mean+area_mean+smoothness_mean+compactness_mean+concavity_mean+symmetry_mean+fractal_dimension_mean+radius_se+perimeter_se+area_se+smoothness_se+compactness_se+concavity_se+concave_points_se+symmetry_se+fractal_dimension_se+radius_worst+perimeter_worst+area_worst+smoothness_worst+compactness_worst+concave_points_worst+symmetry_worst+fractal_dimension_worst+Diag_B\", data=train)\n",
    "model = model.fit()\n",
    "print(model.summary())"
   ]
  },
  {
   "cell_type": "markdown",
   "metadata": {},
   "source": [
    "Se elimina concave_points_worst"
   ]
  },
  {
   "cell_type": "code",
   "execution_count": 404,
   "metadata": {},
   "outputs": [
    {
     "name": "stdout",
     "output_type": "stream",
     "text": [
      "                            OLS Regression Results                            \n",
      "==============================================================================\n",
      "Dep. Variable:            radius_mean   R-squared:                       1.000\n",
      "Model:                            OLS   Adj. R-squared:                  1.000\n",
      "Method:                 Least Squares   F-statistic:                 7.020e+04\n",
      "Date:                Mon, 04 Sep 2023   Prob (F-statistic):               0.00\n",
      "Time:                        22:23:17   Log-Likelihood:                 1245.0\n",
      "No. Observations:                 455   AIC:                            -2438.\n",
      "Df Residuals:                     429   BIC:                            -2331.\n",
      "Df Model:                          25                                         \n",
      "Covariance Type:            nonrobust                                         \n",
      "===========================================================================================\n",
      "                              coef    std err          t      P>|t|      [0.025      0.975]\n",
      "-------------------------------------------------------------------------------------------\n",
      "Intercept                   0.0005      0.001      0.612      0.541      -0.001       0.002\n",
      "texture_mean               -0.0013      0.001     -1.422      0.156      -0.003       0.000\n",
      "perimeter_mean              0.9393      0.017     54.308      0.000       0.905       0.973\n",
      "area_mean                   0.0792      0.013      5.894      0.000       0.053       0.106\n",
      "smoothness_mean             0.0062      0.002      3.049      0.002       0.002       0.010\n",
      "compactness_mean           -0.0590      0.005    -12.795      0.000      -0.068      -0.050\n",
      "concavity_mean             -0.0332      0.003     -9.738      0.000      -0.040      -0.027\n",
      "symmetry_mean               0.0034      0.001      2.249      0.025       0.000       0.006\n",
      "fractal_dimension_mean      0.0081      0.003      2.685      0.008       0.002       0.014\n",
      "radius_se                   0.0068      0.006      1.070      0.285      -0.006       0.019\n",
      "perimeter_se               -0.0217      0.006     -3.501      0.001      -0.034      -0.010\n",
      "area_se                     0.0031      0.004      0.702      0.483      -0.006       0.012\n",
      "smoothness_se               0.0010      0.001      0.743      0.458      -0.002       0.004\n",
      "compactness_se             -0.0024      0.003     -0.854      0.393      -0.008       0.003\n",
      "concavity_se                0.0113      0.002      4.972      0.000       0.007       0.016\n",
      "concave_points_se           0.0050      0.002      2.803      0.005       0.002       0.009\n",
      "symmetry_se                 0.0043      0.002      2.706      0.007       0.001       0.007\n",
      "fractal_dimension_se       -0.0038      0.002     -1.745      0.082      -0.008       0.000\n",
      "radius_worst                0.2348      0.018     13.102      0.000       0.200       0.270\n",
      "perimeter_worst            -0.1074      0.015     -7.166      0.000      -0.137      -0.078\n",
      "area_worst                 -0.0915      0.013     -7.023      0.000      -0.117      -0.066\n",
      "smoothness_worst           -0.0051      0.002     -2.241      0.026      -0.010      -0.001\n",
      "compactness_worst           0.0172      0.004      4.267      0.000       0.009       0.025\n",
      "symmetry_worst             -0.0043      0.002     -2.010      0.045      -0.008   -9.41e-05\n",
      "fractal_dimension_worst    -0.0030      0.003     -0.921      0.357      -0.009       0.003\n",
      "Diag_B                      0.0016      0.002      0.989      0.323      -0.002       0.005\n",
      "==============================================================================\n",
      "Omnibus:                       48.791   Durbin-Watson:                   2.087\n",
      "Prob(Omnibus):                  0.000   Jarque-Bera (JB):              189.430\n",
      "Skew:                           0.384   Prob(JB):                     7.34e-42\n",
      "Kurtosis:                       6.066   Cond. No.                         120.\n",
      "==============================================================================\n",
      "\n",
      "Notes:\n",
      "[1] Standard Errors assume that the covariance matrix of the errors is correctly specified.\n"
     ]
    }
   ],
   "source": [
    "model = smf.ols(formula=\"radius_mean~texture_mean+perimeter_mean+area_mean+smoothness_mean+compactness_mean+concavity_mean+symmetry_mean+fractal_dimension_mean+radius_se+perimeter_se+area_se+smoothness_se+compactness_se+concavity_se+concave_points_se+symmetry_se+fractal_dimension_se+radius_worst+perimeter_worst+area_worst+smoothness_worst+compactness_worst+symmetry_worst+fractal_dimension_worst+Diag_B\", data=train)\n",
    "model = model.fit()\n",
    "print(model.summary())"
   ]
  },
  {
   "cell_type": "code",
   "execution_count": 405,
   "metadata": {},
   "outputs": [
    {
     "name": "stdout",
     "output_type": "stream",
     "text": [
      "                            OLS Regression Results                            \n",
      "==============================================================================\n",
      "Dep. Variable:            radius_mean   R-squared:                       1.000\n",
      "Model:                            OLS   Adj. R-squared:                  1.000\n",
      "Method:                 Least Squares   F-statistic:                 7.321e+04\n",
      "Date:                Mon, 04 Sep 2023   Prob (F-statistic):               0.00\n",
      "Time:                        22:23:17   Log-Likelihood:                 1244.8\n",
      "No. Observations:                 455   AIC:                            -2440.\n",
      "Df Residuals:                     430   BIC:                            -2337.\n",
      "Df Model:                          24                                         \n",
      "Covariance Type:            nonrobust                                         \n",
      "===========================================================================================\n",
      "                              coef    std err          t      P>|t|      [0.025      0.975]\n",
      "-------------------------------------------------------------------------------------------\n",
      "Intercept                   0.0005      0.001      0.624      0.533      -0.001       0.002\n",
      "texture_mean               -0.0013      0.001     -1.464      0.144      -0.003       0.000\n",
      "perimeter_mean              0.9435      0.016     58.071      0.000       0.912       0.975\n",
      "area_mean                   0.0775      0.013      5.869      0.000       0.052       0.103\n",
      "smoothness_mean             0.0063      0.002      3.097      0.002       0.002       0.010\n",
      "compactness_mean           -0.0593      0.005    -12.913      0.000      -0.068      -0.050\n",
      "concavity_mean             -0.0333      0.003     -9.753      0.000      -0.040      -0.027\n",
      "symmetry_mean               0.0032      0.001      2.168      0.031       0.000       0.006\n",
      "fractal_dimension_mean      0.0078      0.003      2.619      0.009       0.002       0.014\n",
      "radius_se                   0.0085      0.006      1.453      0.147      -0.003       0.020\n",
      "perimeter_se               -0.0204      0.006     -3.452      0.001      -0.032      -0.009\n",
      "smoothness_se               0.0010      0.001      0.733      0.464      -0.002       0.004\n",
      "compactness_se             -0.0023      0.003     -0.847      0.398      -0.008       0.003\n",
      "concavity_se                0.0115      0.002      5.047      0.000       0.007       0.016\n",
      "concave_points_se           0.0048      0.002      2.717      0.007       0.001       0.008\n",
      "symmetry_se                 0.0040      0.002      2.615      0.009       0.001       0.007\n",
      "fractal_dimension_se       -0.0039      0.002     -1.783      0.075      -0.008       0.000\n",
      "radius_worst                0.2303      0.017     13.752      0.000       0.197       0.263\n",
      "perimeter_worst            -0.1100      0.014     -7.588      0.000      -0.138      -0.081\n",
      "area_worst                 -0.0865      0.011     -7.932      0.000      -0.108      -0.065\n",
      "smoothness_worst           -0.0050      0.002     -2.203      0.028      -0.010      -0.001\n",
      "compactness_worst           0.0174      0.004      4.327      0.000       0.009       0.025\n",
      "symmetry_worst             -0.0039      0.002     -1.898      0.058      -0.008       0.000\n",
      "fractal_dimension_worst    -0.0028      0.003     -0.864      0.388      -0.009       0.004\n",
      "Diag_B                      0.0016      0.002      1.035      0.301      -0.001       0.005\n",
      "==============================================================================\n",
      "Omnibus:                       48.166   Durbin-Watson:                   2.082\n",
      "Prob(Omnibus):                  0.000   Jarque-Bera (JB):              195.973\n",
      "Skew:                           0.356   Prob(JB):                     2.79e-43\n",
      "Kurtosis:                       6.135   Cond. No.                         106.\n",
      "==============================================================================\n",
      "\n",
      "Notes:\n",
      "[1] Standard Errors assume that the covariance matrix of the errors is correctly specified.\n"
     ]
    }
   ],
   "source": [
    "model = smf.ols(formula=\"radius_mean~texture_mean+perimeter_mean+area_mean+smoothness_mean+compactness_mean+concavity_mean+symmetry_mean+fractal_dimension_mean+radius_se+perimeter_se+smoothness_se+compactness_se+concavity_se+concave_points_se+symmetry_se+fractal_dimension_se+radius_worst+perimeter_worst+area_worst+smoothness_worst+compactness_worst+symmetry_worst+fractal_dimension_worst+Diag_B\", data=train)\n",
    "model = model.fit()\n",
    "print(model.summary())"
   ]
  },
  {
   "cell_type": "markdown",
   "metadata": {},
   "source": [
    "Se elimina smoothnes_se"
   ]
  },
  {
   "cell_type": "code",
   "execution_count": 406,
   "metadata": {},
   "outputs": [
    {
     "name": "stdout",
     "output_type": "stream",
     "text": [
      "                            OLS Regression Results                            \n",
      "==============================================================================\n",
      "Dep. Variable:            radius_mean   R-squared:                       1.000\n",
      "Model:                            OLS   Adj. R-squared:                  1.000\n",
      "Method:                 Least Squares   F-statistic:                 7.648e+04\n",
      "Date:                Mon, 04 Sep 2023   Prob (F-statistic):               0.00\n",
      "Time:                        22:23:17   Log-Likelihood:                 1244.5\n",
      "No. Observations:                 455   AIC:                            -2441.\n",
      "Df Residuals:                     431   BIC:                            -2342.\n",
      "Df Model:                          23                                         \n",
      "Covariance Type:            nonrobust                                         \n",
      "===========================================================================================\n",
      "                              coef    std err          t      P>|t|      [0.025      0.975]\n",
      "-------------------------------------------------------------------------------------------\n",
      "Intercept                   0.0005      0.001      0.620      0.536      -0.001       0.002\n",
      "texture_mean               -0.0012      0.001     -1.424      0.155      -0.003       0.000\n",
      "perimeter_mean              0.9429      0.016     58.137      0.000       0.911       0.975\n",
      "area_mean                   0.0784      0.013      5.969      0.000       0.053       0.104\n",
      "smoothness_mean             0.0059      0.002      3.011      0.003       0.002       0.010\n",
      "compactness_mean           -0.0593      0.005    -12.914      0.000      -0.068      -0.050\n",
      "concavity_mean             -0.0333      0.003     -9.752      0.000      -0.040      -0.027\n",
      "symmetry_mean               0.0033      0.001      2.276      0.023       0.000       0.006\n",
      "fractal_dimension_mean      0.0079      0.003      2.647      0.008       0.002       0.014\n",
      "radius_se                   0.0090      0.006      1.557      0.120      -0.002       0.020\n",
      "perimeter_se               -0.0209      0.006     -3.581      0.000      -0.032      -0.009\n",
      "compactness_se             -0.0017      0.003     -0.664      0.507      -0.007       0.003\n",
      "concavity_se                0.0113      0.002      4.998      0.000       0.007       0.016\n",
      "concave_points_se           0.0049      0.002      2.803      0.005       0.001       0.008\n",
      "symmetry_se                 0.0044      0.001      3.013      0.003       0.002       0.007\n",
      "fractal_dimension_se       -0.0039      0.002     -1.771      0.077      -0.008       0.000\n",
      "radius_worst                0.2289      0.017     13.768      0.000       0.196       0.262\n",
      "perimeter_worst            -0.1090      0.014     -7.556      0.000      -0.137      -0.081\n",
      "area_worst                 -0.0866      0.011     -7.943      0.000      -0.108      -0.065\n",
      "smoothness_worst           -0.0040      0.002     -2.206      0.028      -0.008      -0.000\n",
      "compactness_worst           0.0168      0.004      4.268      0.000       0.009       0.025\n",
      "symmetry_worst             -0.0044      0.002     -2.222      0.027      -0.008      -0.001\n",
      "fractal_dimension_worst    -0.0029      0.003     -0.905      0.366      -0.009       0.003\n",
      "Diag_B                      0.0015      0.002      0.957      0.339      -0.002       0.005\n",
      "==============================================================================\n",
      "Omnibus:                       48.871   Durbin-Watson:                   2.084\n",
      "Prob(Omnibus):                  0.000   Jarque-Bera (JB):              203.743\n",
      "Skew:                           0.355   Prob(JB):                     5.72e-45\n",
      "Kurtosis:                       6.200   Cond. No.                         106.\n",
      "==============================================================================\n",
      "\n",
      "Notes:\n",
      "[1] Standard Errors assume that the covariance matrix of the errors is correctly specified.\n"
     ]
    }
   ],
   "source": [
    "model = smf.ols(formula=\"radius_mean~texture_mean+perimeter_mean+area_mean+smoothness_mean+compactness_mean+concavity_mean+symmetry_mean+fractal_dimension_mean+radius_se+perimeter_se+compactness_se+concavity_se+concave_points_se+symmetry_se+fractal_dimension_se+radius_worst+perimeter_worst+area_worst+smoothness_worst+compactness_worst+symmetry_worst+fractal_dimension_worst+Diag_B\", data=train)\n",
    "model = model.fit()\n",
    "print(model.summary())"
   ]
  },
  {
   "cell_type": "markdown",
   "metadata": {},
   "source": [
    "Se elimina compactness_se"
   ]
  },
  {
   "cell_type": "code",
   "execution_count": 407,
   "metadata": {},
   "outputs": [
    {
     "name": "stdout",
     "output_type": "stream",
     "text": [
      "                            OLS Regression Results                            \n",
      "==============================================================================\n",
      "Dep. Variable:            radius_mean   R-squared:                       1.000\n",
      "Model:                            OLS   Adj. R-squared:                  1.000\n",
      "Method:                 Least Squares   F-statistic:                 8.006e+04\n",
      "Date:                Mon, 04 Sep 2023   Prob (F-statistic):               0.00\n",
      "Time:                        22:23:17   Log-Likelihood:                 1244.3\n",
      "No. Observations:                 455   AIC:                            -2443.\n",
      "Df Residuals:                     432   BIC:                            -2348.\n",
      "Df Model:                          22                                         \n",
      "Covariance Type:            nonrobust                                         \n",
      "===========================================================================================\n",
      "                              coef    std err          t      P>|t|      [0.025      0.975]\n",
      "-------------------------------------------------------------------------------------------\n",
      "Intercept                   0.0005      0.001      0.617      0.538      -0.001       0.002\n",
      "texture_mean               -0.0013      0.001     -1.436      0.152      -0.003       0.000\n",
      "perimeter_mean              0.9427      0.016     58.171      0.000       0.911       0.975\n",
      "area_mean                   0.0784      0.013      5.975      0.000       0.053       0.104\n",
      "smoothness_mean             0.0061      0.002      3.144      0.002       0.002       0.010\n",
      "compactness_mean           -0.0600      0.004    -13.444      0.000      -0.069      -0.051\n",
      "concavity_mean             -0.0328      0.003     -9.846      0.000      -0.039      -0.026\n",
      "symmetry_mean               0.0033      0.001      2.245      0.025       0.000       0.006\n",
      "fractal_dimension_mean      0.0081      0.003      2.729      0.007       0.002       0.014\n",
      "radius_se                   0.0094      0.006      1.624      0.105      -0.002       0.021\n",
      "perimeter_se               -0.0213      0.006     -3.674      0.000      -0.033      -0.010\n",
      "concavity_se                0.0108      0.002      5.036      0.000       0.007       0.015\n",
      "concave_points_se           0.0048      0.002      2.759      0.006       0.001       0.008\n",
      "symmetry_se                 0.0041      0.001      2.943      0.003       0.001       0.007\n",
      "fractal_dimension_se       -0.0046      0.002     -2.530      0.012      -0.008      -0.001\n",
      "radius_worst                0.2291      0.017     13.787      0.000       0.196       0.262\n",
      "perimeter_worst            -0.1081      0.014     -7.532      0.000      -0.136      -0.080\n",
      "area_worst                 -0.0872      0.011     -8.032      0.000      -0.109      -0.066\n",
      "smoothness_worst           -0.0041      0.002     -2.237      0.026      -0.008      -0.000\n",
      "compactness_worst           0.0156      0.003      4.510      0.000       0.009       0.022\n",
      "symmetry_worst             -0.0041      0.002     -2.141      0.033      -0.008      -0.000\n",
      "fractal_dimension_worst    -0.0024      0.003     -0.760      0.448      -0.009       0.004\n",
      "Diag_B                      0.0015      0.002      0.958      0.339      -0.002       0.005\n",
      "==============================================================================\n",
      "Omnibus:                       48.945   Durbin-Watson:                   2.082\n",
      "Prob(Omnibus):                  0.000   Jarque-Bera (JB):              203.303\n",
      "Skew:                           0.358   Prob(JB):                     7.13e-45\n",
      "Kurtosis:                       6.196   Cond. No.                         104.\n",
      "==============================================================================\n",
      "\n",
      "Notes:\n",
      "[1] Standard Errors assume that the covariance matrix of the errors is correctly specified.\n"
     ]
    }
   ],
   "source": [
    "model = smf.ols(formula=\"radius_mean~texture_mean+perimeter_mean+area_mean+smoothness_mean+compactness_mean+concavity_mean+symmetry_mean+fractal_dimension_mean+radius_se+perimeter_se+concavity_se+concave_points_se+symmetry_se+fractal_dimension_se+radius_worst+perimeter_worst+area_worst+smoothness_worst+compactness_worst+symmetry_worst+fractal_dimension_worst+Diag_B\", data=train)\n",
    "model = model.fit()\n",
    "print(model.summary())"
   ]
  },
  {
   "cell_type": "markdown",
   "metadata": {},
   "source": [
    "Se elimina fractal_dimension_worst"
   ]
  },
  {
   "cell_type": "code",
   "execution_count": 408,
   "metadata": {},
   "outputs": [
    {
     "name": "stdout",
     "output_type": "stream",
     "text": [
      "                            OLS Regression Results                            \n",
      "==============================================================================\n",
      "Dep. Variable:            radius_mean   R-squared:                       1.000\n",
      "Model:                            OLS   Adj. R-squared:                  1.000\n",
      "Method:                 Least Squares   F-statistic:                 8.395e+04\n",
      "Date:                Mon, 04 Sep 2023   Prob (F-statistic):               0.00\n",
      "Time:                        22:23:18   Log-Likelihood:                 1244.0\n",
      "No. Observations:                 455   AIC:                            -2444.\n",
      "Df Residuals:                     433   BIC:                            -2353.\n",
      "Df Model:                          21                                         \n",
      "Covariance Type:            nonrobust                                         \n",
      "==========================================================================================\n",
      "                             coef    std err          t      P>|t|      [0.025      0.975]\n",
      "------------------------------------------------------------------------------------------\n",
      "Intercept                  0.0005      0.001      0.608      0.544      -0.001       0.002\n",
      "texture_mean              -0.0013      0.001     -1.432      0.153      -0.003       0.000\n",
      "perimeter_mean             0.9428      0.016     58.205      0.000       0.911       0.975\n",
      "area_mean                  0.0783      0.013      5.969      0.000       0.053       0.104\n",
      "smoothness_mean            0.0061      0.002      3.177      0.002       0.002       0.010\n",
      "compactness_mean          -0.0588      0.004    -14.126      0.000      -0.067      -0.051\n",
      "concavity_mean            -0.0331      0.003    -10.045      0.000      -0.040      -0.027\n",
      "symmetry_mean              0.0033      0.001      2.273      0.024       0.000       0.006\n",
      "fractal_dimension_mean     0.0067      0.002      2.840      0.005       0.002       0.011\n",
      "radius_se                  0.0099      0.006      1.730      0.084      -0.001       0.021\n",
      "perimeter_se              -0.0219      0.006     -3.798      0.000      -0.033      -0.011\n",
      "concavity_se               0.0111      0.002      5.288      0.000       0.007       0.015\n",
      "concave_points_se          0.0049      0.002      2.832      0.005       0.001       0.008\n",
      "symmetry_se                0.0044      0.001      3.288      0.001       0.002       0.007\n",
      "fractal_dimension_se      -0.0053      0.002     -3.265      0.001      -0.008      -0.002\n",
      "radius_worst               0.2271      0.016     13.845      0.000       0.195       0.259\n",
      "perimeter_worst           -0.1068      0.014     -7.498      0.000      -0.135      -0.079\n",
      "area_worst                -0.0866      0.011     -8.001      0.000      -0.108      -0.065\n",
      "smoothness_worst          -0.0043      0.002     -2.389      0.017      -0.008      -0.001\n",
      "compactness_worst          0.0138      0.003      5.398      0.000       0.009       0.019\n",
      "symmetry_worst            -0.0044      0.002     -2.315      0.021      -0.008      -0.001\n",
      "Diag_B                     0.0016      0.002      0.986      0.325      -0.002       0.005\n",
      "==============================================================================\n",
      "Omnibus:                       49.180   Durbin-Watson:                   2.073\n",
      "Prob(Omnibus):                  0.000   Jarque-Bera (JB):              211.392\n",
      "Skew:                           0.346   Prob(JB):                     1.25e-46\n",
      "Kurtosis:                       6.267   Cond. No.                         103.\n",
      "==============================================================================\n",
      "\n",
      "Notes:\n",
      "[1] Standard Errors assume that the covariance matrix of the errors is correctly specified.\n"
     ]
    }
   ],
   "source": [
    "model = smf.ols(formula=\"radius_mean~texture_mean+perimeter_mean+area_mean+smoothness_mean+compactness_mean+concavity_mean+symmetry_mean+fractal_dimension_mean+radius_se+perimeter_se+concavity_se+concave_points_se+symmetry_se+fractal_dimension_se+radius_worst+perimeter_worst+area_worst+smoothness_worst+compactness_worst+symmetry_worst+Diag_B\", data=train)\n",
    "model = model.fit()\n",
    "print(model.summary())"
   ]
  },
  {
   "cell_type": "markdown",
   "metadata": {},
   "source": [
    "Se elimina Diag_B"
   ]
  },
  {
   "cell_type": "code",
   "execution_count": 409,
   "metadata": {},
   "outputs": [
    {
     "name": "stdout",
     "output_type": "stream",
     "text": [
      "                            OLS Regression Results                            \n",
      "==============================================================================\n",
      "Dep. Variable:            radius_mean   R-squared:                       1.000\n",
      "Model:                            OLS   Adj. R-squared:                  1.000\n",
      "Method:                 Least Squares   F-statistic:                 8.815e+04\n",
      "Date:                Mon, 04 Sep 2023   Prob (F-statistic):               0.00\n",
      "Time:                        22:23:18   Log-Likelihood:                 1243.4\n",
      "No. Observations:                 455   AIC:                            -2445.\n",
      "Df Residuals:                     434   BIC:                            -2358.\n",
      "Df Model:                          20                                         \n",
      "Covariance Type:            nonrobust                                         \n",
      "==========================================================================================\n",
      "                             coef    std err          t      P>|t|      [0.025      0.975]\n",
      "------------------------------------------------------------------------------------------\n",
      "Intercept                  0.0004      0.001      0.585      0.559      -0.001       0.002\n",
      "texture_mean              -0.0015      0.001     -1.719      0.086      -0.003       0.000\n",
      "perimeter_mean             0.9438      0.016     58.371      0.000       0.912       0.976\n",
      "area_mean                  0.0777      0.013      5.927      0.000       0.052       0.103\n",
      "smoothness_mean            0.0062      0.002      3.201      0.001       0.002       0.010\n",
      "compactness_mean          -0.0579      0.004    -14.215      0.000      -0.066      -0.050\n",
      "concavity_mean            -0.0341      0.003    -10.870      0.000      -0.040      -0.028\n",
      "symmetry_mean              0.0033      0.001      2.279      0.023       0.000       0.006\n",
      "fractal_dimension_mean     0.0065      0.002      2.775      0.006       0.002       0.011\n",
      "radius_se                  0.0096      0.006      1.677      0.094      -0.002       0.021\n",
      "perimeter_se              -0.0217      0.006     -3.766      0.000      -0.033      -0.010\n",
      "concavity_se               0.0117      0.002      5.744      0.000       0.008       0.016\n",
      "concave_points_se          0.0045      0.002      2.679      0.008       0.001       0.008\n",
      "symmetry_se                0.0044      0.001      3.272      0.001       0.002       0.007\n",
      "fractal_dimension_se      -0.0053      0.002     -3.254      0.001      -0.008      -0.002\n",
      "radius_worst               0.2239      0.016     13.928      0.000       0.192       0.255\n",
      "perimeter_worst           -0.1065      0.014     -7.481      0.000      -0.135      -0.079\n",
      "area_worst                -0.0844      0.011     -7.965      0.000      -0.105      -0.064\n",
      "smoothness_worst          -0.0045      0.002     -2.514      0.012      -0.008      -0.001\n",
      "compactness_worst          0.0134      0.003      5.309      0.000       0.008       0.018\n",
      "symmetry_worst            -0.0045      0.002     -2.390      0.017      -0.008      -0.001\n",
      "==============================================================================\n",
      "Omnibus:                       46.789   Durbin-Watson:                   2.067\n",
      "Prob(Omnibus):                  0.000   Jarque-Bera (JB):              201.772\n",
      "Skew:                           0.310   Prob(JB):                     1.53e-44\n",
      "Kurtosis:                       6.203   Cond. No.                         98.3\n",
      "==============================================================================\n",
      "\n",
      "Notes:\n",
      "[1] Standard Errors assume that the covariance matrix of the errors is correctly specified.\n"
     ]
    }
   ],
   "source": [
    "model = smf.ols(formula=\"radius_mean~texture_mean+perimeter_mean+area_mean+smoothness_mean+compactness_mean+concavity_mean+symmetry_mean+fractal_dimension_mean+radius_se+perimeter_se+concavity_se+concave_points_se+symmetry_se+fractal_dimension_se+radius_worst+perimeter_worst+area_worst+smoothness_worst+compactness_worst+symmetry_worst\", data=train)\n",
    "model = model.fit()\n",
    "print(model.summary())"
   ]
  },
  {
   "cell_type": "markdown",
   "metadata": {},
   "source": [
    "Se elimina radius_se"
   ]
  },
  {
   "cell_type": "code",
   "execution_count": 410,
   "metadata": {},
   "outputs": [
    {
     "name": "stdout",
     "output_type": "stream",
     "text": [
      "                            OLS Regression Results                            \n",
      "==============================================================================\n",
      "Dep. Variable:            radius_mean   R-squared:                       1.000\n",
      "Model:                            OLS   Adj. R-squared:                  1.000\n",
      "Method:                 Least Squares   F-statistic:                 9.241e+04\n",
      "Date:                Mon, 04 Sep 2023   Prob (F-statistic):               0.00\n",
      "Time:                        22:23:18   Log-Likelihood:                 1242.0\n",
      "No. Observations:                 455   AIC:                            -2444.\n",
      "Df Residuals:                     435   BIC:                            -2362.\n",
      "Df Model:                          19                                         \n",
      "Covariance Type:            nonrobust                                         \n",
      "==========================================================================================\n",
      "                             coef    std err          t      P>|t|      [0.025      0.975]\n",
      "------------------------------------------------------------------------------------------\n",
      "Intercept                  0.0004      0.001      0.570      0.569      -0.001       0.002\n",
      "texture_mean              -0.0015      0.001     -1.746      0.082      -0.003       0.000\n",
      "perimeter_mean             0.9413      0.016     58.341      0.000       0.910       0.973\n",
      "area_mean                  0.0778      0.013      5.928      0.000       0.052       0.104\n",
      "smoothness_mean            0.0067      0.002      3.514      0.000       0.003       0.010\n",
      "compactness_mean          -0.0576      0.004    -14.124      0.000      -0.066      -0.050\n",
      "concavity_mean            -0.0332      0.003    -10.718      0.000      -0.039      -0.027\n",
      "symmetry_mean              0.0037      0.001      2.545      0.011       0.001       0.007\n",
      "fractal_dimension_mean     0.0056      0.002      2.450      0.015       0.001       0.010\n",
      "perimeter_se              -0.0125      0.002     -6.903      0.000      -0.016      -0.009\n",
      "concavity_se               0.0117      0.002      5.743      0.000       0.008       0.016\n",
      "concave_points_se          0.0039      0.002      2.357      0.019       0.001       0.007\n",
      "symmetry_se                0.0046      0.001      3.419      0.001       0.002       0.007\n",
      "fractal_dimension_se      -0.0045      0.002     -2.891      0.004      -0.008      -0.001\n",
      "radius_worst               0.2403      0.013     18.781      0.000       0.215       0.265\n",
      "perimeter_worst           -0.1212      0.011    -10.742      0.000      -0.143      -0.099\n",
      "area_worst                -0.0843      0.011     -7.936      0.000      -0.105      -0.063\n",
      "smoothness_worst          -0.0045      0.002     -2.492      0.013      -0.008      -0.001\n",
      "compactness_worst          0.0132      0.003      5.230      0.000       0.008       0.018\n",
      "symmetry_worst            -0.0049      0.002     -2.575      0.010      -0.009      -0.001\n",
      "==============================================================================\n",
      "Omnibus:                       48.857   Durbin-Watson:                   2.080\n",
      "Prob(Omnibus):                  0.000   Jarque-Bera (JB):              238.951\n",
      "Skew:                           0.279   Prob(JB):                     1.30e-52\n",
      "Kurtosis:                       6.506   Cond. No.                         93.8\n",
      "==============================================================================\n",
      "\n",
      "Notes:\n",
      "[1] Standard Errors assume that the covariance matrix of the errors is correctly specified.\n"
     ]
    }
   ],
   "source": [
    "model = smf.ols(formula=\"radius_mean~texture_mean+perimeter_mean+area_mean+smoothness_mean+compactness_mean+concavity_mean+symmetry_mean+fractal_dimension_mean+perimeter_se+concavity_se+concave_points_se+symmetry_se+fractal_dimension_se+radius_worst+perimeter_worst+area_worst+smoothness_worst+compactness_worst+symmetry_worst\", data=train)\n",
    "model = model.fit()\n",
    "print(model.summary())"
   ]
  },
  {
   "cell_type": "markdown",
   "metadata": {},
   "source": [
    "Se elimina texture_mean"
   ]
  },
  {
   "cell_type": "code",
   "execution_count": 411,
   "metadata": {},
   "outputs": [
    {
     "name": "stdout",
     "output_type": "stream",
     "text": [
      "                            OLS Regression Results                            \n",
      "==============================================================================\n",
      "Dep. Variable:            radius_mean   R-squared:                       1.000\n",
      "Model:                            OLS   Adj. R-squared:                  1.000\n",
      "Method:                 Least Squares   F-statistic:                 9.709e+04\n",
      "Date:                Mon, 04 Sep 2023   Prob (F-statistic):               0.00\n",
      "Time:                        22:23:18   Log-Likelihood:                 1240.4\n",
      "No. Observations:                 455   AIC:                            -2443.\n",
      "Df Residuals:                     436   BIC:                            -2364.\n",
      "Df Model:                          18                                         \n",
      "Covariance Type:            nonrobust                                         \n",
      "==========================================================================================\n",
      "                             coef    std err          t      P>|t|      [0.025      0.975]\n",
      "------------------------------------------------------------------------------------------\n",
      "Intercept                  0.0005      0.001      0.614      0.539      -0.001       0.002\n",
      "perimeter_mean             0.9426      0.016     58.345      0.000       0.911       0.974\n",
      "area_mean                  0.0773      0.013      5.877      0.000       0.051       0.103\n",
      "smoothness_mean            0.0072      0.002      3.808      0.000       0.003       0.011\n",
      "compactness_mean          -0.0576      0.004    -14.074      0.000      -0.066      -0.050\n",
      "concavity_mean            -0.0336      0.003    -10.827      0.000      -0.040      -0.027\n",
      "symmetry_mean              0.0034      0.001      2.384      0.018       0.001       0.006\n",
      "fractal_dimension_mean     0.0059      0.002      2.574      0.010       0.001       0.010\n",
      "perimeter_se              -0.0126      0.002     -6.924      0.000      -0.016      -0.009\n",
      "concavity_se               0.0118      0.002      5.813      0.000       0.008       0.016\n",
      "concave_points_se          0.0038      0.002      2.294      0.022       0.001       0.007\n",
      "symmetry_se                0.0044      0.001      3.265      0.001       0.002       0.007\n",
      "fractal_dimension_se      -0.0045      0.002     -2.885      0.004      -0.008      -0.001\n",
      "radius_worst               0.2381      0.013     18.656      0.000       0.213       0.263\n",
      "perimeter_worst           -0.1208      0.011    -10.687      0.000      -0.143      -0.099\n",
      "area_worst                -0.0833      0.011     -7.834      0.000      -0.104      -0.062\n",
      "smoothness_worst          -0.0048      0.002     -2.682      0.008      -0.008      -0.001\n",
      "compactness_worst          0.0127      0.003      5.042      0.000       0.008       0.018\n",
      "symmetry_worst            -0.0045      0.002     -2.367      0.018      -0.008      -0.001\n",
      "==============================================================================\n",
      "Omnibus:                       51.388   Durbin-Watson:                   2.110\n",
      "Prob(Omnibus):                  0.000   Jarque-Bera (JB):              276.014\n",
      "Skew:                           0.269   Prob(JB):                     1.16e-60\n",
      "Kurtosis:                       6.777   Cond. No.                         93.1\n",
      "==============================================================================\n",
      "\n",
      "Notes:\n",
      "[1] Standard Errors assume that the covariance matrix of the errors is correctly specified.\n"
     ]
    }
   ],
   "source": [
    "model = smf.ols(formula=\"radius_mean~perimeter_mean+area_mean+smoothness_mean+compactness_mean+concavity_mean+symmetry_mean+fractal_dimension_mean+perimeter_se+concavity_se+concave_points_se+symmetry_se+fractal_dimension_se+radius_worst+perimeter_worst+area_worst+smoothness_worst+compactness_worst+symmetry_worst\", data=train)\n",
    "model = model.fit()\n",
    "print(model.summary())"
   ]
  },
  {
   "cell_type": "markdown",
   "metadata": {},
   "source": [
    "Como se puede ver, no hay ninguna variable cuyo p-valor sea mayor a 0.05, por lo tanto, se puede asegurar que el modelo obtenido usa la cantidad óptima de variables independientes. \n",
    "\n",
    "Debido a que ya se ha obtenido el mejor modelo lineal posible, se deben llevar a cabo las prediciones y compararlas con los valores reales para evaluar si el modelo se ajusta correctamente a los datos y es apropiado usarlo para predicciones."
   ]
  },
  {
   "cell_type": "code",
   "execution_count": 412,
   "metadata": {},
   "outputs": [],
   "source": [
    "y_pred = model.predict(test)\n",
    "y_test = test[\"radius_mean\"]"
   ]
  },
  {
   "cell_type": "code",
   "execution_count": 413,
   "metadata": {},
   "outputs": [
    {
     "name": "stdout",
     "output_type": "stream",
     "text": [
      "MAE =  0.012744441745427685\n",
      "MSE =  0.00039408040142804016\n",
      "R^2 =  0.9995957840501069\n"
     ]
    }
   ],
   "source": [
    "print(\"MAE = \", mean_absolute_error(y_test, y_pred))\n",
    "print(\"MSE = \", mean_squared_error(y_test, y_pred))\n",
    "print(\"R^2 = \", r2_score(y_test, y_pred))"
   ]
  },
  {
   "cell_type": "markdown",
   "metadata": {},
   "source": [
    "Las métricas usadas para medir la calidad del modelo son las siguientes:\n",
    "\n",
    "$$Error Absoluto Medio = \\frac{1}{n}\\sum{|y_i-\\hat{y}_i|}$$\n",
    "\n",
    "$$Error Cuadrático Medio = \\frac{1}{n}\\sum{(y_i-\\hat{y}_i)^2}$$\n",
    "\n",
    "$$R^2 = \\frac{\\sum{(y_i-\\hat{y}_i)^2}}{\\sum{(y_i-\\hat{y}_i)^2}}$$\n",
    "\n",
    "Donde:\n",
    "\n",
    "$y$ = Valor real.\n",
    "\n",
    "$\\hat{y}$ = Valor predicho.\n",
    "\n",
    "$n$ = Cantidad de datos.\n",
    "\n",
    "El valor de $R^2$ es al que se le suele poner más atención, esto debido a que es un poco más descriptivo que los demás, pues su valor va de 0 a 1, por lo que es muy fácil verlo y notar qué tan cercano es a 1 para poder definir si el modelo es confiable o no.\n",
    "\n",
    "Como se puede observar, el valor de $R^2$ es muy cercano a 1, además de que tanto el error absoluto como el error cuadrático son extremadamente bajos, por lo que es seguro asumir que el modelo es lo suficientemente confiable para su uso verdadero. Esto incluso tomando en cuenta que son datos médicos y, por lo tanto, exigen de una precisión más alta que otro tipo de datos."
   ]
  },
  {
   "cell_type": "code",
   "execution_count": 414,
   "metadata": {},
   "outputs": [
    {
     "data": {
      "image/png": "[encoded data removed]",
      "text/plain": [
       "<Figure size 640x480 with 1 Axes>"
      ]
     },
     "metadata": {},
     "output_type": "display_data"
    }
   ],
   "source": [
    "plt.scatter(y_test, y_pred)\n",
    "plt.title(\"Valor Real VS Predicción\")\n",
    "plt.xlabel(\"Valor Real\")\n",
    "plt.ylabel(\"Predicción\")\n",
    "plt.axline([0, 0], [1, 1])\n",
    "plt.show()"
   ]
  },
  {
   "cell_type": "markdown",
   "metadata": {},
   "source": [
    "Para complementar los valores numéricos, es posible observar de forma gráfica qué tan exacto es el modelo, para esto se grafican los valores reales VS valores predichos y, si los puntos de la gráfica de dispersión se ajustan a una recta de 45°, entonces el modelo es correcto."
   ]
  },
  {
   "cell_type": "markdown",
   "metadata": {},
   "source": [
    "## Conclusión"
   ]
  },
  {
   "cell_type": "markdown",
   "metadata": {},
   "source": [
    "Para terminar con esta actividad, es necesario hacer notar que los valores obtenidos parecen tener sentido de acuerdo a cierta lógica, pues la variable *Id* fue una de las primeras que se eliminaron del modelo por su baja correlación, siendo que esta variable efectivamente no podría tener ningún tipo de relación con los datos reales que se desean predecir.\n",
    "\n",
    "Un aprendizaje que se puede obtener de esta actividad es que es falsa la creencia de que *entre más datos, el modelo será mejor*, pues también es necesario conocer qué tan útiles son los datos que se están usando. En este caso, si las variables no se hubieran eliminado, el modelo habría sido más complejo sin obtener ninguna recompensa y, de hecho, haberlo dejado pudo haber ocasionado que el modelo se sobreajustara y, por lo tanto, perdiera rendimiento. Es por eso que antes de tan siquiera pensar en crear un modelo, se debe tomar en cuenta la información con la que se cuenta para saber si de verdad esos datos tienen relación con la variable dependiente."
   ]
  }
 ],
 "metadata": {
  "kernelspec": {
   "display_name": "Python 3",
   "language": "python",
   "name": "python3"
  },
  "language_info": {
   "codemirror_mode": {
    "name": "ipython",
    "version": 3
   },
   "file_extension": ".py",
   "mimetype": "text/x-python",
   "name": "python",
   "nbconvert_exporter": "python",
   "pygments_lexer": "ipython3",
   "version": "3.10.12"
  },
  "orig_nbformat": 4
 },
 "nbformat": 4,
 "nbformat_minor": 2
}
